{
 "cells": [
  {
   "cell_type": "markdown",
   "id": "23ddcf41",
   "metadata": {},
   "source": [
    "# Assignment 24 Solutions\n"
   ]
  },
  {
   "cell_type": "code",
   "execution_count": null,
   "id": "d4eeebe7",
   "metadata": {},
   "outputs": [],
   "source": [
    "Q1. Is it permissible to use several import statements to import the same module? What would the goal be? \n",
    "Can you think of a situation where it would be beneficial ?\n",
    "\n",
    "Ans: Yes, it is permissible to use several import statements to import the same module. It is used in case when we \n",
    "have to import multiple functions from same module."
   ]
  },
  {
   "cell_type": "code",
   "execution_count": null,
   "id": "f5a51b94",
   "metadata": {},
   "outputs": [],
   "source": [
    "Q2. What are some of a module's characteristics? (Name at least one.)\n",
    "Ans: The following are some of a module's characteristics:\n",
    "\n",
    "__name__ : It returns the name of the module\n",
    "__doc__ : It denotes the documentation string line written in a module code.\n",
    "__file__ : It holds the name and path of the module file from which it is loaded\n",
    "__dict__ : It return a dictionary object of module attributes, functions and other definitions and their respective values"
   ]
  },
  {
   "cell_type": "code",
   "execution_count": null,
   "id": "e9727ea7",
   "metadata": {},
   "outputs": [],
   "source": [
    "Q3. Circular importing, such as when two modules import each other, can lead to dependencies and bugs that aren't visible.\n",
    "How can you go about creating a program that avoids mutual importing?\n",
    "\n",
    "Ans: Circular importing means importing the two modules in each other. If suppose we are wokring in MOD1.py file and \n",
    "it is importing some function say F2() from some other module say MOD2.PY file or we can do vice-versa. What will \n",
    "happen is: This will give an import error.\n",
    "\n",
    "This is because when we import F2() function from module MOD2.py, then this will execute MOD2.py file. And in MOD2.py \n",
    "file there is an another statement of importing MOD1.py module.\n",
    "\n",
    "This will result in endless loop. To avoid this error just do one thingWe can use if __name__ == '__main__'\n",
    "\n",
    "In the function, you can't directly refer to the function in the program. The addition of this sentence avoids the \n",
    "endless loop of the program ."
   ]
  },
  {
   "cell_type": "code",
   "execution_count": null,
   "id": "4461f5de",
   "metadata": {},
   "outputs": [],
   "source": [
    "Q4. Why is __all__ in Python ?\n",
    "\n",
    "Ans: It provides list of all modules present in a library."
   ]
  },
  {
   "cell_type": "code",
   "execution_count": null,
   "id": "2b9e4a44",
   "metadata": {},
   "outputs": [],
   "source": [
    "Q5. In what situation is it useful to refer to the __name__ attribute or the string __main_ _ ?\n",
    "\n",
    "Ans: During the time of execution of the code if we want to refer the module in which we are working on then we \n",
    "uses name attribute. In that case it will return the module in which we are working on. Suppose if that moudle is \n",
    "being imported from some other module then name will have the name of that moudle from where the current module has \n",
    "been imported. The current module in which we are working is refer to the string __main __."
   ]
  }
 ],
 "metadata": {
  "kernelspec": {
   "display_name": "Python 3 (ipykernel)",
   "language": "python",
   "name": "python3"
  },
  "language_info": {
   "codemirror_mode": {
    "name": "ipython",
    "version": 3
   },
   "file_extension": ".py",
   "mimetype": "text/x-python",
   "name": "python",
   "nbconvert_exporter": "python",
   "pygments_lexer": "ipython3",
   "version": "3.9.12"
  }
 },
 "nbformat": 4,
 "nbformat_minor": 5
}
