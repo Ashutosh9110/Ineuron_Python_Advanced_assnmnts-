{
 "cells": [
  {
   "cell_type": "code",
   "execution_count": null,
   "id": "17bce3a4",
   "metadata": {},
   "outputs": [],
   "source": [
    "Q1. What is the purpose of Python's OOP?"
   ]
  },
  {
   "cell_type": "markdown",
   "id": "40e73e40",
   "metadata": {},
   "source": [
    "1. OOP is about code reuse—you factor code to minimize redundancy and program by customizing what already exists instead of changing code in place or starting from scratch."
   ]
  },
  {
   "cell_type": "code",
   "execution_count": null,
   "id": "c0de2aae",
   "metadata": {},
   "outputs": [],
   "source": [
    "Q2. Where does an inheritance search look for an attribute?"
   ]
  },
  {
   "cell_type": "markdown",
   "id": "a95ec5d2",
   "metadata": {},
   "source": [
    "2. An inheritance search looks for an attribute first in the instance object, then in the class the instance was created from, then in all higher superclasses, progressing from the bottom to the top of the object tree, and from left to right (by default). The search stops at the first place the attribute is found. Because the lowest version of a name found along the way wins, class hierarchies naturally support customization by extension in new subclasses."
   ]
  },
  {
   "cell_type": "code",
   "execution_count": null,
   "id": "2d045f22",
   "metadata": {},
   "outputs": [],
   "source": [
    "Q3. How do you distinguish between a class object and an instance object?"
   ]
  },
  {
   "cell_type": "markdown",
   "id": "104a4c8f",
   "metadata": {},
   "source": [
    "3. Both class and instance objects are namespaces (packages of variables that appear as attributes). The main difference between them is that classes are a kind of factory for creating multiple instances. Classes also support operator overloading methods, which instances inherit, and treat any functions nested in the class as methods for processing instances."
   ]
  },
  {
   "cell_type": "code",
   "execution_count": null,
   "id": "ccf3c0bc",
   "metadata": {},
   "outputs": [],
   "source": [
    "Q4. What makes the first argument in a class’s method function special?"
   ]
  },
  {
   "cell_type": "markdown",
   "id": "4b14c9e0",
   "metadata": {},
   "source": [
    "4. The first argument in a class’s method function is special because it always receives the instance object that is the implied subject of the method call. It’s usually called self by convention. Because method functions always have this implied subject and object context by default, we say they are “object-oriented” (i.e., designed to process or change objects)."
   ]
  },
  {
   "cell_type": "code",
   "execution_count": null,
   "id": "474b7f4f",
   "metadata": {},
   "outputs": [],
   "source": [
    "Q5. What is the purpose of the __init__ method?"
   ]
  },
  {
   "cell_type": "markdown",
   "id": "72ec0059",
   "metadata": {},
   "source": [
    "5. If the __init__ method is coded or inherited in a class, Python calls it automatically each time an instance of that class is created. It’s known as the constructor method; it is passed the new instance implicitly, as well as any arguments passed explicitly to the class name. It’s also the most commonly used operator overloading method. If no __init__ method is present, instances simply begin life as empty namespaces."
   ]
  },
  {
   "cell_type": "code",
   "execution_count": null,
   "id": "34f34f89",
   "metadata": {},
   "outputs": [],
   "source": [
    "Q6. What is the process for creating a class instance?"
   ]
  },
  {
   "cell_type": "markdown",
   "id": "dce0f9a7",
   "metadata": {},
   "source": [
    "6. You create a class instance by calling the class name as though it were a function; any arguments passed into the class name show up as arguments two and beyond in the __init__ constructor method. The new instance remembers the class it was created from for inheritance purposes."
   ]
  },
  {
   "cell_type": "code",
   "execution_count": null,
   "id": "a24b8e40",
   "metadata": {},
   "outputs": [],
   "source": [
    "Q7. What is the process for creating a class?"
   ]
  },
  {
   "cell_type": "markdown",
   "id": "99e502eb",
   "metadata": {},
   "source": [
    "7. You create a class by running a class statement; like function definitions, these statements normally run when the enclosing module file is imported "
   ]
  },
  {
   "cell_type": "code",
   "execution_count": null,
   "id": "9b8db539",
   "metadata": {},
   "outputs": [],
   "source": [
    "Q8. How would you define the superclasses of a class?"
   ]
  },
  {
   "cell_type": "markdown",
   "id": "28654a55",
   "metadata": {},
   "source": [
    "8. You specify a class’s superclasses by listing them in parentheses in the class statement, after the new class’s name. The left-to-right order in which the classes are listed in the parentheses gives the left-to-right inheritance search order in the class tree."
   ]
  },
  {
   "cell_type": "code",
   "execution_count": null,
   "id": "7af0783d",
   "metadata": {},
   "outputs": [],
   "source": []
  }
 ],
 "metadata": {
  "kernelspec": {
   "display_name": "Python 3 (ipykernel)",
   "language": "python",
   "name": "python3"
  },
  "language_info": {
   "codemirror_mode": {
    "name": "ipython",
    "version": 3
   },
   "file_extension": ".py",
   "mimetype": "text/x-python",
   "name": "python",
   "nbconvert_exporter": "python",
   "pygments_lexer": "ipython3",
   "version": "3.9.12"
  }
 },
 "nbformat": 4,
 "nbformat_minor": 5
}
