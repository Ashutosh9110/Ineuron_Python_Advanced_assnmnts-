{
 "cells": [
  {
   "cell_type": "markdown",
   "id": "b269eb0c",
   "metadata": {},
   "source": [
    "# Assignment 19 "
   ]
  },
  {
   "cell_type": "code",
   "execution_count": null,
   "id": "73069d98",
   "metadata": {},
   "outputs": [],
   "source": [
    "Q1. Define the relationship between a class and its instances. Is it a one-to-one or a one-to-many partnership,\n",
    "for example?\n",
    "\n",
    "Ans: Relationship between a class and its instances is a one to many partnership."
   ]
  },
  {
   "cell_type": "code",
   "execution_count": null,
   "id": "5923705a",
   "metadata": {},
   "outputs": [],
   "source": [
    "Q2. What kind of data is held only in an instance?\n",
    "\n",
    "Ans: Instance objects contains the Instance variables which are specific to that specific Instance object."
   ]
  },
  {
   "cell_type": "code",
   "execution_count": null,
   "id": "a6dc6cc0",
   "metadata": {},
   "outputs": [],
   "source": [
    "Q3. What kind of knowledge is stored in a class?\n",
    "Ans: Class creates a user-defined data structure, which holds its own data members and member functions, which can \n",
    "be accessed and used by creating an instance of that class. A class is like a blueprint for an object."
   ]
  },
  {
   "cell_type": "code",
   "execution_count": null,
   "id": "4c944e13",
   "metadata": {},
   "outputs": [],
   "source": [
    "Q4. What exactly is a method, and how is it different from a regular function?\n",
    "Ans: The methods with a class can be used to access the insatnce variables of its instance. So,the object's state \n",
    "can be modified by its method. Function can't access the attributes of an instance of a class or can't modify the \n",
    "state of the object."
   ]
  },
  {
   "cell_type": "code",
   "execution_count": null,
   "id": "f2620a28",
   "metadata": {},
   "outputs": [],
   "source": [
    "Q5. Is inheritance supported in Python, and if so, what is the syntax?\\\n",
    "\n",
    "Ans: Yes,Python supports inheritance. The Types of Inheritence Supported by Python are:\n",
    "\n",
    "Simple Inheritence\n",
    "Multiple Inheritence\n",
    "Multilevel lInheritence\n",
    "Hybrid Inheritence\n",
    "Hierracial Inheritence"
   ]
  },
  {
   "cell_type": "code",
   "execution_count": 2,
   "id": "64284a15",
   "metadata": {},
   "outputs": [],
   "source": [
    "class Person:\n",
    "    def __init__(self, fname, lname):\n",
    "        self.first_name = fname\n",
    "        self.last_name = lname\n",
    "class Student(Person):\n",
    "    pass"
   ]
  },
  {
   "cell_type": "code",
   "execution_count": null,
   "id": "e3be996e",
   "metadata": {},
   "outputs": [],
   "source": [
    "Q6. How much encapsulation (making instance or class variables private) does Python support?\n",
    "\n",
    "Ans: Encapsulation describes the idea of wrapping data and the methods that work on data within one unit. This puts \n",
    "restrictions on accessing variables and methods directly and can prevent the accidental modification of data. \n",
    "To prevent accidental change, an objects variable can only be changed by an objects method"
   ]
  },
  {
   "cell_type": "code",
   "execution_count": null,
   "id": "89556ae4",
   "metadata": {},
   "outputs": [],
   "source": [
    "Q7. How do you distinguish between a class variable and an instance variable?\n",
    "Ans: The Class Attribute is available to all the instance objects of that class. whereas Instance Attributes are \n",
    "accessible only to the object or Instance of that class.\n",
    "\n",
    "A single copy of Class attributes is maintained by pvm at the class level. Whereas difference copies of instance \n",
    "attributes are maintained by pvm at objects/instance level.\n",
    "\n"
   ]
  },
  {
   "cell_type": "code",
   "execution_count": null,
   "id": "a83c6d34",
   "metadata": {},
   "outputs": [],
   "source": [
    "Q8. When, if ever, can self be included in a class's method definitions?\n",
    "\n",
    "Ans: Yes, self can included in class method definations to access the instance variables inside class methods."
   ]
  },
  {
   "cell_type": "code",
   "execution_count": null,
   "id": "354a3190",
   "metadata": {},
   "outputs": [],
   "source": [
    "Q9. What is the difference between the __add__ and the __radd__ methods ?\n",
    "\n",
    "Ans: Entering __radd__ Python will first try __add__(), and if that returns Not Implemented Python will check if the \n",
    "right-hand operand implements __radd__, and if it does, it will call __radd__() rather than raising a TypeError"
   ]
  },
  {
   "cell_type": "code",
   "execution_count": null,
   "id": "80c3dfdc",
   "metadata": {},
   "outputs": [],
   "source": [
    "Q10. When is it necessary to use a reflection method? When do you not need it, even though you support the operation\n",
    "in question?\n",
    "\n",
    "Ans: Reflection method we often encounter the requirement that a method in the executing object, or a variable in the \n",
    "calling object, or a field of the object should be assigned, while the method name or field name can not be determined\n",
    "when encoding the code, and need to be input in the form of passing strings through parameters."
   ]
  },
  {
   "cell_type": "code",
   "execution_count": null,
   "id": "b420925b",
   "metadata": {},
   "outputs": [],
   "source": [
    "Q11. What is the __iadd__ method called?\n",
    "\n",
    "Ans: __iadd__ method is called when we use implementation like a+=b which is a.__iadd__(b)"
   ]
  },
  {
   "cell_type": "code",
   "execution_count": null,
   "id": "d0c4f0f9",
   "metadata": {},
   "outputs": [],
   "source": [
    "Q12. Is the _ _init_ _ method inherited by subclasses? What do you do if you need to customize its behavior within a\n",
    "subclass ?\n",
    "\n",
    "Ans: Yes, __init__ method will be inherited by subclasses. if we want to customize its behaviour within a subclass \n",
    "we can use super() method."
   ]
  }
 ],
 "metadata": {
  "kernelspec": {
   "display_name": "Python 3 (ipykernel)",
   "language": "python",
   "name": "python3"
  },
  "language_info": {
   "codemirror_mode": {
    "name": "ipython",
    "version": 3
   },
   "file_extension": ".py",
   "mimetype": "text/x-python",
   "name": "python",
   "nbconvert_exporter": "python",
   "pygments_lexer": "ipython3",
   "version": "3.9.12"
  }
 },
 "nbformat": 4,
 "nbformat_minor": 5
}
